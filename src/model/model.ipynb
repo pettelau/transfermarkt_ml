{
 "cells": [
  {
   "cell_type": "code",
   "execution_count": 64,
   "metadata": {},
   "outputs": [],
   "source": [
    "import pandas as pd\n",
    "import numpy as np\n",
    "import matplotlib.pyplot as plt\n",
    "import seaborn as sns\n",
    "from catboost import CatBoostRegressor\n",
    "from sklearn.model_selection import train_test_split\n",
    "from sklearn.metrics import mean_squared_error\n",
    "from sklearn.preprocessing import MinMaxScaler\n",
    "pd.set_option('display.max_columns', None)"
   ]
  },
  {
   "cell_type": "code",
   "execution_count": 65,
   "metadata": {},
   "outputs": [],
   "source": [
    "def rmsle(y_true, y_pred):\n",
    "    \"\"\"\n",
    "    Computes the Root Mean Squared Logarithmic Error \n",
    "    \n",
    "    Args:\n",
    "        y_true (np.array): n-dimensional vector of ground-truth values \n",
    "        y_pred (np.array): n-dimensional vecotr of predicted values \n",
    "    \n",
    "    Returns:\n",
    "        A scalar float with the rmsle value \n",
    "    \n",
    "    Note: You can alternatively use sklearn and just do: \n",
    "        `sklearn.metrics.mean_squared_log_error(y_true, y_pred) ** 0.5`\n",
    "    \"\"\"\n",
    "    assert (y_true >= 0).all(), 'Received negative y_true values'\n",
    "    assert (y_pred >= 0).all(), 'Received negative y_pred values'\n",
    "    assert y_true.shape == y_pred.shape, 'y_true and y_pred have different shapes'\n",
    "    y_true_log1p = np.log1p(y_true)  # log(1 + y_true)\n",
    "    y_pred_log1p = np.log1p(y_pred)  # log(1 + y_pred)\n",
    "    return np.sqrt(np.mean(np.square(y_pred_log1p - y_true_log1p)))"
   ]
  },
  {
   "cell_type": "code",
   "execution_count": 66,
   "metadata": {},
   "outputs": [],
   "source": [
    "df = pd.read_csv('../../data/dataset.csv')"
   ]
  },
  {
   "cell_type": "code",
   "execution_count": 67,
   "metadata": {},
   "outputs": [
    {
     "data": {
      "text/html": [
       "<div>\n",
       "<style scoped>\n",
       "    .dataframe tbody tr th:only-of-type {\n",
       "        vertical-align: middle;\n",
       "    }\n",
       "\n",
       "    .dataframe tbody tr th {\n",
       "        vertical-align: top;\n",
       "    }\n",
       "\n",
       "    .dataframe thead th {\n",
       "        text-align: right;\n",
       "    }\n",
       "</style>\n",
       "<table border=\"1\" class=\"dataframe\">\n",
       "  <thead>\n",
       "    <tr style=\"text-align: right;\">\n",
       "      <th></th>\n",
       "      <th>Player_id</th>\n",
       "      <th>Season</th>\n",
       "      <th>Games</th>\n",
       "      <th>PPG</th>\n",
       "      <th>Goals</th>\n",
       "      <th>Assists</th>\n",
       "      <th>Yellow_cards</th>\n",
       "      <th>Yellow_red_cards</th>\n",
       "      <th>Red_cards</th>\n",
       "      <th>Penalty_goals</th>\n",
       "      <th>Minutes_per_goal</th>\n",
       "      <th>Minutes_played</th>\n",
       "      <th>Club_id</th>\n",
       "      <th>Competition</th>\n",
       "      <th>MarketValue</th>\n",
       "      <th>name</th>\n",
       "      <th>age</th>\n",
       "      <th>Days_injured</th>\n",
       "      <th>international</th>\n",
       "      <th>Liga</th>\n",
       "      <th>Liga_level</th>\n",
       "      <th>W</th>\n",
       "      <th>D</th>\n",
       "      <th>L</th>\n",
       "      <th>Points</th>\n",
       "      <th>Goales_scored</th>\n",
       "      <th>Goales_conceded</th>\n",
       "    </tr>\n",
       "  </thead>\n",
       "  <tbody>\n",
       "    <tr>\n",
       "      <th>0</th>\n",
       "      <td>10</td>\n",
       "      <td>2004</td>\n",
       "      <td>45</td>\n",
       "      <td>1.60</td>\n",
       "      <td>17</td>\n",
       "      <td>11</td>\n",
       "      <td>4</td>\n",
       "      <td>0</td>\n",
       "      <td>0</td>\n",
       "      <td>0</td>\n",
       "      <td>110.0</td>\n",
       "      <td>3244</td>\n",
       "      <td>86</td>\n",
       "      <td>Bundesliga</td>\n",
       "      <td>12000000</td>\n",
       "      <td>Miroslav Klose</td>\n",
       "      <td>26.0</td>\n",
       "      <td>0.0</td>\n",
       "      <td>1</td>\n",
       "      <td>Bundesliga</td>\n",
       "      <td>First Tier</td>\n",
       "      <td>18</td>\n",
       "      <td>5</td>\n",
       "      <td>11</td>\n",
       "      <td>59</td>\n",
       "      <td>68</td>\n",
       "      <td>37</td>\n",
       "    </tr>\n",
       "    <tr>\n",
       "      <th>1</th>\n",
       "      <td>690</td>\n",
       "      <td>2004</td>\n",
       "      <td>41</td>\n",
       "      <td>1.80</td>\n",
       "      <td>19</td>\n",
       "      <td>14</td>\n",
       "      <td>5</td>\n",
       "      <td>0</td>\n",
       "      <td>0</td>\n",
       "      <td>0</td>\n",
       "      <td>136.0</td>\n",
       "      <td>3001</td>\n",
       "      <td>86</td>\n",
       "      <td>Bundesliga</td>\n",
       "      <td>7500000</td>\n",
       "      <td>Ivan Klasnic</td>\n",
       "      <td>24.0</td>\n",
       "      <td>0.0</td>\n",
       "      <td>1</td>\n",
       "      <td>Bundesliga</td>\n",
       "      <td>First Tier</td>\n",
       "      <td>18</td>\n",
       "      <td>5</td>\n",
       "      <td>11</td>\n",
       "      <td>59</td>\n",
       "      <td>68</td>\n",
       "      <td>37</td>\n",
       "    </tr>\n",
       "    <tr>\n",
       "      <th>2</th>\n",
       "      <td>4316</td>\n",
       "      <td>2004</td>\n",
       "      <td>35</td>\n",
       "      <td>1.74</td>\n",
       "      <td>1</td>\n",
       "      <td>0</td>\n",
       "      <td>2</td>\n",
       "      <td>0</td>\n",
       "      <td>0</td>\n",
       "      <td>0</td>\n",
       "      <td>478.0</td>\n",
       "      <td>2985</td>\n",
       "      <td>86</td>\n",
       "      <td>Bundesliga</td>\n",
       "      <td>4500000</td>\n",
       "      <td>Petri Pasanen</td>\n",
       "      <td>24.0</td>\n",
       "      <td>0.0</td>\n",
       "      <td>1</td>\n",
       "      <td>Bundesliga</td>\n",
       "      <td>First Tier</td>\n",
       "      <td>18</td>\n",
       "      <td>5</td>\n",
       "      <td>11</td>\n",
       "      <td>59</td>\n",
       "      <td>68</td>\n",
       "      <td>37</td>\n",
       "    </tr>\n",
       "    <tr>\n",
       "      <th>3</th>\n",
       "      <td>4403</td>\n",
       "      <td>2004</td>\n",
       "      <td>28</td>\n",
       "      <td>1.82</td>\n",
       "      <td>3</td>\n",
       "      <td>6</td>\n",
       "      <td>4</td>\n",
       "      <td>0</td>\n",
       "      <td>0</td>\n",
       "      <td>0</td>\n",
       "      <td>130.0</td>\n",
       "      <td>1898</td>\n",
       "      <td>86</td>\n",
       "      <td>Bundesliga</td>\n",
       "      <td>4000000</td>\n",
       "      <td>Daniel Jensen</td>\n",
       "      <td>25.0</td>\n",
       "      <td>0.0</td>\n",
       "      <td>1</td>\n",
       "      <td>Bundesliga</td>\n",
       "      <td>First Tier</td>\n",
       "      <td>18</td>\n",
       "      <td>5</td>\n",
       "      <td>11</td>\n",
       "      <td>59</td>\n",
       "      <td>68</td>\n",
       "      <td>37</td>\n",
       "    </tr>\n",
       "    <tr>\n",
       "      <th>4</th>\n",
       "      <td>10</td>\n",
       "      <td>2005</td>\n",
       "      <td>40</td>\n",
       "      <td>1.70</td>\n",
       "      <td>31</td>\n",
       "      <td>17</td>\n",
       "      <td>5</td>\n",
       "      <td>1</td>\n",
       "      <td>0</td>\n",
       "      <td>1</td>\n",
       "      <td>115.0</td>\n",
       "      <td>3313</td>\n",
       "      <td>86</td>\n",
       "      <td>Bundesliga</td>\n",
       "      <td>30000000</td>\n",
       "      <td>Miroslav Klose</td>\n",
       "      <td>27.0</td>\n",
       "      <td>0.0</td>\n",
       "      <td>1</td>\n",
       "      <td>Bundesliga</td>\n",
       "      <td>First Tier</td>\n",
       "      <td>21</td>\n",
       "      <td>7</td>\n",
       "      <td>6</td>\n",
       "      <td>70</td>\n",
       "      <td>79</td>\n",
       "      <td>37</td>\n",
       "    </tr>\n",
       "  </tbody>\n",
       "</table>\n",
       "</div>"
      ],
      "text/plain": [
       "   Player_id  Season  Games   PPG  Goals  Assists  Yellow_cards  \\\n",
       "0         10    2004     45  1.60     17       11             4   \n",
       "1        690    2004     41  1.80     19       14             5   \n",
       "2       4316    2004     35  1.74      1        0             2   \n",
       "3       4403    2004     28  1.82      3        6             4   \n",
       "4         10    2005     40  1.70     31       17             5   \n",
       "\n",
       "   Yellow_red_cards  Red_cards  Penalty_goals  Minutes_per_goal  \\\n",
       "0                 0          0              0             110.0   \n",
       "1                 0          0              0             136.0   \n",
       "2                 0          0              0             478.0   \n",
       "3                 0          0              0             130.0   \n",
       "4                 1          0              1             115.0   \n",
       "\n",
       "   Minutes_played  Club_id Competition  MarketValue            name   age  \\\n",
       "0            3244       86  Bundesliga     12000000  Miroslav Klose  26.0   \n",
       "1            3001       86  Bundesliga      7500000    Ivan Klasnic  24.0   \n",
       "2            2985       86  Bundesliga      4500000   Petri Pasanen  24.0   \n",
       "3            1898       86  Bundesliga      4000000   Daniel Jensen  25.0   \n",
       "4            3313       86  Bundesliga     30000000  Miroslav Klose  27.0   \n",
       "\n",
       "   Days_injured  international        Liga  Liga_level   W  D   L  Points  \\\n",
       "0           0.0              1  Bundesliga  First Tier  18  5  11      59   \n",
       "1           0.0              1  Bundesliga  First Tier  18  5  11      59   \n",
       "2           0.0              1  Bundesliga  First Tier  18  5  11      59   \n",
       "3           0.0              1  Bundesliga  First Tier  18  5  11      59   \n",
       "4           0.0              1  Bundesliga  First Tier  21  7   6      70   \n",
       "\n",
       "   Goales_scored  Goales_conceded  \n",
       "0             68               37  \n",
       "1             68               37  \n",
       "2             68               37  \n",
       "3             68               37  \n",
       "4             79               37  "
      ]
     },
     "execution_count": 67,
     "metadata": {},
     "output_type": "execute_result"
    }
   ],
   "source": [
    "df.head()"
   ]
  },
  {
   "cell_type": "code",
   "execution_count": 68,
   "metadata": {},
   "outputs": [
    {
     "name": "stderr",
     "output_type": "stream",
     "text": [
      "c:\\Python39\\lib\\site-packages\\seaborn\\distributions.py:2619: FutureWarning: `distplot` is a deprecated function and will be removed in a future version. Please adapt your code to use either `displot` (a figure-level function with similar flexibility) or `histplot` (an axes-level function for histograms).\n",
      "  warnings.warn(msg, FutureWarning)\n"
     ]
    },
    {
     "data": {
      "text/plain": [
       "<AxesSubplot:xlabel='MarketValue', ylabel='Density'>"
      ]
     },
     "execution_count": 68,
     "metadata": {},
     "output_type": "execute_result"
    },
    {
     "data": {
      "image/png": "[encoded data removed]",
      "text/plain": [
       "<Figure size 432x288 with 1 Axes>"
      ]
     },
     "metadata": {
      "needs_background": "light"
     },
     "output_type": "display_data"
    }
   ],
   "source": [
    "# plot the distribution of MarketValue\n",
    "sns.distplot(np.log(df['MarketValue']+2))"
   ]
  },
  {
   "cell_type": "code",
   "execution_count": 69,
   "metadata": {},
   "outputs": [],
   "source": [
    "# define categorical features\n",
    "categorical_features = ['Club_id', 'Competition', 'Liga', 'Liga_level']\n",
    "df[categorical_features] = df[categorical_features].astype('category')\n",
    "\n",
    "# and drop the name column (becasue it cant handle strings that are not categorical)\n",
    "df = df.drop(columns=['name'])"
   ]
  },
  {
   "cell_type": "code",
   "execution_count": 70,
   "metadata": {},
   "outputs": [],
   "source": [
    "# split data into train and test, train is every season before 2022\n",
    "train = df[df['Season'] < 2022]\n",
    "test = df[df['Season'] == 2022]\n",
    "\n",
    "x_train = train.drop(['MarketValue'], axis=1)\n",
    "y_train = train['MarketValue']\n",
    "x_test = test.drop(['MarketValue'], axis=1)\n",
    "y_test = test['MarketValue']\n",
    "y_train = np.log10(y_train + 1)"
   ]
  },
  {
   "cell_type": "code",
   "execution_count": 71,
   "metadata": {},
   "outputs": [],
   "source": [
    "model = CatBoostRegressor(\n",
    "    n_estimators=2000,\n",
    "    learning_rate=0.05,\n",
    "    thread_count=-1,\n",
    "    max_depth=6,\n",
    "    silent=True,\n",
    "    loss_function='RMSE',\n",
    "    random_seed=42,\n",
    "    bagging_temperature=0.3,\n",
    "    od_type=\"Iter\"\n",
    ")"
   ]
  },
  {
   "cell_type": "code",
   "execution_count": 72,
   "metadata": {},
   "outputs": [
    {
     "data": {
      "text/plain": [
       "<catboost.core.CatBoostRegressor at 0x26d54771b50>"
      ]
     },
     "execution_count": 72,
     "metadata": {},
     "output_type": "execute_result"
    }
   ],
   "source": [
    "model.fit(x_train, y_train, cat_features=categorical_features)"
   ]
  },
  {
   "cell_type": "code",
   "execution_count": 74,
   "metadata": {},
   "outputs": [
    {
     "data": {
      "text/plain": [
       "Text(0.5, 1.0, 'Feature Importance')"
      ]
     },
     "execution_count": 74,
     "metadata": {},
     "output_type": "execute_result"
    },
    {
     "data": {
      "image/png": "[encoded data removed]",
      "text/plain": [
       "<Figure size 864x1008 with 1 Axes>"
      ]
     },
     "metadata": {
      "needs_background": "light"
     },
     "output_type": "display_data"
    }
   ],
   "source": [
    "feature_importance = model.feature_importances_\n",
    "sorted_idx = np.argsort(feature_importance)\n",
    "fig = plt.figure(figsize=(12, 14))\n",
    "plt.barh(range(len(sorted_idx)), feature_importance[sorted_idx], align='center')\n",
    "plt.yticks(range(len(sorted_idx)), np.array(train.drop(['MarketValue'], axis = 1).columns)[sorted_idx])\n",
    "plt.title('Feature Importance')"
   ]
  },
  {
   "cell_type": "code",
   "execution_count": 75,
   "metadata": {},
   "outputs": [
    {
     "name": "stdout",
     "output_type": "stream",
     "text": [
      "Test RMSLE: 2.25\n"
     ]
    }
   ],
   "source": [
    "pred = model.predict(x_test)\n",
    "pred = 10**(pred) - 1\n",
    "pred[pred < 0] = pred.mean()\n",
    "cat_rmsle = round(rmsle(y_test, pred), 2)\n",
    "print('Test RMSLE:', cat_rmsle)"
   ]
  }
 ],
 "metadata": {
  "kernelspec": {
   "display_name": "Python 3",
   "language": "python",
   "name": "python3"
  },
  "language_info": {
   "codemirror_mode": {
    "name": "ipython",
    "version": 3
   },
   "file_extension": ".py",
   "mimetype": "text/x-python",
   "name": "python",
   "nbconvert_exporter": "python",
   "pygments_lexer": "ipython3",
   "version": "3.9.7"
  },
  "orig_nbformat": 4
 },
 "nbformat": 4,
 "nbformat_minor": 2
}
