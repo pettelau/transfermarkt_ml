{
 "cells": [
  {
   "cell_type": "code",
   "execution_count": 1,
   "metadata": {},
   "outputs": [],
   "source": [
    "import pandas as pd\n",
    "import numpy as np\n",
    "import seaborn as sns"
   ]
  },
  {
   "cell_type": "code",
   "execution_count": 2,
   "metadata": {},
   "outputs": [],
   "source": [
    "raw_df = pd.read_csv(\"../../data/dataset.csv\")"
   ]
  },
  {
   "cell_type": "code",
   "execution_count": 5,
   "metadata": {},
   "outputs": [
    {
     "name": "stdout",
     "output_type": "stream",
     "text": [
      "<class 'pandas.core.frame.DataFrame'>\n",
      "RangeIndex: 177155 entries, 0 to 177154\n",
      "Data columns (total 25 columns):\n",
      " #   Column            Non-Null Count   Dtype  \n",
      "---  ------            --------------   -----  \n",
      " 0   Player_id         177155 non-null  int64  \n",
      " 1   Season            177155 non-null  int64  \n",
      " 2   Games             177155 non-null  int64  \n",
      " 3   PPG               177155 non-null  float64\n",
      " 4   Goals             177155 non-null  int64  \n",
      " 5   Assists           177155 non-null  int64  \n",
      " 6   Yellow_cards      177155 non-null  int64  \n",
      " 7   Yellow_red_cards  177155 non-null  int64  \n",
      " 8   Red_cards         177155 non-null  int64  \n",
      " 9   Penalty_goals     177155 non-null  int64  \n",
      " 10  Minutes_per_goal  177155 non-null  float64\n",
      " 11  Minutes_played    177155 non-null  int64  \n",
      " 12  Club_id           177155 non-null  int64  \n",
      " 13  Competition       177155 non-null  object \n",
      " 14  MarketValue       177155 non-null  int64  \n",
      " 15  Days_injured      177155 non-null  float64\n",
      " 16  international     177155 non-null  bool   \n",
      " 17  Liga              177155 non-null  object \n",
      " 18  Liga_level        177155 non-null  object \n",
      " 19  W                 177155 non-null  int64  \n",
      " 20  D                 177155 non-null  int64  \n",
      " 21  L                 177155 non-null  int64  \n",
      " 22  Points            177155 non-null  int64  \n",
      " 23  Goales_scored     177155 non-null  int64  \n",
      " 24  Goales_conceded   177155 non-null  int64  \n",
      "dtypes: bool(1), float64(3), int64(18), object(3)\n",
      "memory usage: 32.6+ MB\n"
     ]
    }
   ],
   "source": [
    "raw_df.info()"
   ]
  },
  {
   "cell_type": "code",
   "execution_count": 4,
   "metadata": {},
   "outputs": [
    {
     "data": {
      "text/html": [
       "<div>\n",
       "<style scoped>\n",
       "    .dataframe tbody tr th:only-of-type {\n",
       "        vertical-align: middle;\n",
       "    }\n",
       "\n",
       "    .dataframe tbody tr th {\n",
       "        vertical-align: top;\n",
       "    }\n",
       "\n",
       "    .dataframe thead th {\n",
       "        text-align: right;\n",
       "    }\n",
       "</style>\n",
       "<table border=\"1\" class=\"dataframe\">\n",
       "  <thead>\n",
       "    <tr style=\"text-align: right;\">\n",
       "      <th></th>\n",
       "      <th>Player_id</th>\n",
       "      <th>Season</th>\n",
       "      <th>Games</th>\n",
       "      <th>PPG</th>\n",
       "      <th>Goals</th>\n",
       "      <th>Assists</th>\n",
       "      <th>Yellow_cards</th>\n",
       "      <th>Yellow_red_cards</th>\n",
       "      <th>Red_cards</th>\n",
       "      <th>Penalty_goals</th>\n",
       "      <th>...</th>\n",
       "      <th>Minutes_played</th>\n",
       "      <th>Club_id</th>\n",
       "      <th>MarketValue</th>\n",
       "      <th>Days_injured</th>\n",
       "      <th>W</th>\n",
       "      <th>D</th>\n",
       "      <th>L</th>\n",
       "      <th>Points</th>\n",
       "      <th>Goales_scored</th>\n",
       "      <th>Goales_conceded</th>\n",
       "    </tr>\n",
       "  </thead>\n",
       "  <tbody>\n",
       "    <tr>\n",
       "      <th>count</th>\n",
       "      <td>1.771550e+05</td>\n",
       "      <td>177155.000000</td>\n",
       "      <td>177155.000000</td>\n",
       "      <td>177155.000000</td>\n",
       "      <td>177155.000000</td>\n",
       "      <td>177155.000000</td>\n",
       "      <td>177155.00000</td>\n",
       "      <td>177155.000000</td>\n",
       "      <td>177155.00000</td>\n",
       "      <td>177155.000000</td>\n",
       "      <td>...</td>\n",
       "      <td>177155.000000</td>\n",
       "      <td>177155.000000</td>\n",
       "      <td>1.771550e+05</td>\n",
       "      <td>177155.000000</td>\n",
       "      <td>177155.000000</td>\n",
       "      <td>177155.000000</td>\n",
       "      <td>177155.000000</td>\n",
       "      <td>177155.000000</td>\n",
       "      <td>177155.000000</td>\n",
       "      <td>177155.000000</td>\n",
       "    </tr>\n",
       "    <tr>\n",
       "      <th>mean</th>\n",
       "      <td>1.824376e+05</td>\n",
       "      <td>2015.742847</td>\n",
       "      <td>24.540724</td>\n",
       "      <td>1.336631</td>\n",
       "      <td>2.990122</td>\n",
       "      <td>1.944873</td>\n",
       "      <td>3.65975</td>\n",
       "      <td>0.114815</td>\n",
       "      <td>0.10195</td>\n",
       "      <td>0.265671</td>\n",
       "      <td>...</td>\n",
       "      <td>1734.882927</td>\n",
       "      <td>6050.150795</td>\n",
       "      <td>2.242022e+06</td>\n",
       "      <td>20.498665</td>\n",
       "      <td>12.870673</td>\n",
       "      <td>8.502419</td>\n",
       "      <td>11.416917</td>\n",
       "      <td>47.063498</td>\n",
       "      <td>45.079366</td>\n",
       "      <td>41.643820</td>\n",
       "    </tr>\n",
       "    <tr>\n",
       "      <th>std</th>\n",
       "      <td>1.666675e+05</td>\n",
       "      <td>4.422104</td>\n",
       "      <td>11.329541</td>\n",
       "      <td>0.583288</td>\n",
       "      <td>4.361801</td>\n",
       "      <td>2.706929</td>\n",
       "      <td>3.02084</td>\n",
       "      <td>0.350687</td>\n",
       "      <td>0.32590</td>\n",
       "      <td>0.902682</td>\n",
       "      <td>...</td>\n",
       "      <td>997.146468</td>\n",
       "      <td>11473.707921</td>\n",
       "      <td>6.317898e+06</td>\n",
       "      <td>1562.933062</td>\n",
       "      <td>5.635269</td>\n",
       "      <td>3.429401</td>\n",
       "      <td>5.357417</td>\n",
       "      <td>17.143184</td>\n",
       "      <td>16.252346</td>\n",
       "      <td>14.683128</td>\n",
       "    </tr>\n",
       "    <tr>\n",
       "      <th>min</th>\n",
       "      <td>1.000000e+01</td>\n",
       "      <td>2003.000000</td>\n",
       "      <td>1.000000</td>\n",
       "      <td>0.000000</td>\n",
       "      <td>0.000000</td>\n",
       "      <td>0.000000</td>\n",
       "      <td>0.00000</td>\n",
       "      <td>0.000000</td>\n",
       "      <td>0.00000</td>\n",
       "      <td>0.000000</td>\n",
       "      <td>...</td>\n",
       "      <td>1.000000</td>\n",
       "      <td>1.000000</td>\n",
       "      <td>0.000000e+00</td>\n",
       "      <td>0.000000</td>\n",
       "      <td>0.000000</td>\n",
       "      <td>0.000000</td>\n",
       "      <td>0.000000</td>\n",
       "      <td>-32.000000</td>\n",
       "      <td>0.000000</td>\n",
       "      <td>0.000000</td>\n",
       "    </tr>\n",
       "    <tr>\n",
       "      <th>25%</th>\n",
       "      <td>5.208200e+04</td>\n",
       "      <td>2013.000000</td>\n",
       "      <td>16.000000</td>\n",
       "      <td>0.900000</td>\n",
       "      <td>0.000000</td>\n",
       "      <td>0.000000</td>\n",
       "      <td>1.00000</td>\n",
       "      <td>0.000000</td>\n",
       "      <td>0.00000</td>\n",
       "      <td>0.000000</td>\n",
       "      <td>...</td>\n",
       "      <td>941.000000</td>\n",
       "      <td>430.000000</td>\n",
       "      <td>2.000000e+05</td>\n",
       "      <td>0.000000</td>\n",
       "      <td>9.000000</td>\n",
       "      <td>6.000000</td>\n",
       "      <td>7.000000</td>\n",
       "      <td>35.000000</td>\n",
       "      <td>34.000000</td>\n",
       "      <td>31.000000</td>\n",
       "    </tr>\n",
       "    <tr>\n",
       "      <th>50%</th>\n",
       "      <td>1.296270e+05</td>\n",
       "      <td>2016.000000</td>\n",
       "      <td>25.000000</td>\n",
       "      <td>1.350000</td>\n",
       "      <td>1.000000</td>\n",
       "      <td>1.000000</td>\n",
       "      <td>3.00000</td>\n",
       "      <td>0.000000</td>\n",
       "      <td>0.00000</td>\n",
       "      <td>0.000000</td>\n",
       "      <td>...</td>\n",
       "      <td>1695.000000</td>\n",
       "      <td>1245.000000</td>\n",
       "      <td>5.000000e+05</td>\n",
       "      <td>0.000000</td>\n",
       "      <td>12.000000</td>\n",
       "      <td>8.000000</td>\n",
       "      <td>11.000000</td>\n",
       "      <td>46.000000</td>\n",
       "      <td>44.000000</td>\n",
       "      <td>41.000000</td>\n",
       "    </tr>\n",
       "    <tr>\n",
       "      <th>75%</th>\n",
       "      <td>2.716220e+05</td>\n",
       "      <td>2019.000000</td>\n",
       "      <td>33.000000</td>\n",
       "      <td>1.750000</td>\n",
       "      <td>4.000000</td>\n",
       "      <td>3.000000</td>\n",
       "      <td>5.00000</td>\n",
       "      <td>0.000000</td>\n",
       "      <td>0.00000</td>\n",
       "      <td>0.000000</td>\n",
       "      <td>...</td>\n",
       "      <td>2464.500000</td>\n",
       "      <td>5781.000000</td>\n",
       "      <td>1.500000e+06</td>\n",
       "      <td>0.000000</td>\n",
       "      <td>16.000000</td>\n",
       "      <td>11.000000</td>\n",
       "      <td>15.000000</td>\n",
       "      <td>58.000000</td>\n",
       "      <td>55.000000</td>\n",
       "      <td>51.000000</td>\n",
       "    </tr>\n",
       "    <tr>\n",
       "      <th>max</th>\n",
       "      <td>1.059630e+06</td>\n",
       "      <td>2022.000000</td>\n",
       "      <td>84.000000</td>\n",
       "      <td>4.180000</td>\n",
       "      <td>73.000000</td>\n",
       "      <td>35.000000</td>\n",
       "      <td>26.00000</td>\n",
       "      <td>4.000000</td>\n",
       "      <td>5.00000</td>\n",
       "      <td>15.000000</td>\n",
       "      <td>...</td>\n",
       "      <td>6730.000000</td>\n",
       "      <td>101302.000000</td>\n",
       "      <td>2.000000e+08</td>\n",
       "      <td>657380.000000</td>\n",
       "      <td>35.000000</td>\n",
       "      <td>24.000000</td>\n",
       "      <td>37.000000</td>\n",
       "      <td>113.000000</td>\n",
       "      <td>121.000000</td>\n",
       "      <td>134.000000</td>\n",
       "    </tr>\n",
       "  </tbody>\n",
       "</table>\n",
       "<p>8 rows × 21 columns</p>\n",
       "</div>"
      ],
      "text/plain": [
       "          Player_id         Season          Games            PPG  \\\n",
       "count  1.771550e+05  177155.000000  177155.000000  177155.000000   \n",
       "mean   1.824376e+05    2015.742847      24.540724       1.336631   \n",
       "std    1.666675e+05       4.422104      11.329541       0.583288   \n",
       "min    1.000000e+01    2003.000000       1.000000       0.000000   \n",
       "25%    5.208200e+04    2013.000000      16.000000       0.900000   \n",
       "50%    1.296270e+05    2016.000000      25.000000       1.350000   \n",
       "75%    2.716220e+05    2019.000000      33.000000       1.750000   \n",
       "max    1.059630e+06    2022.000000      84.000000       4.180000   \n",
       "\n",
       "               Goals        Assists  Yellow_cards  Yellow_red_cards  \\\n",
       "count  177155.000000  177155.000000  177155.00000     177155.000000   \n",
       "mean        2.990122       1.944873       3.65975          0.114815   \n",
       "std         4.361801       2.706929       3.02084          0.350687   \n",
       "min         0.000000       0.000000       0.00000          0.000000   \n",
       "25%         0.000000       0.000000       1.00000          0.000000   \n",
       "50%         1.000000       1.000000       3.00000          0.000000   \n",
       "75%         4.000000       3.000000       5.00000          0.000000   \n",
       "max        73.000000      35.000000      26.00000          4.000000   \n",
       "\n",
       "          Red_cards  Penalty_goals  ...  Minutes_played        Club_id  \\\n",
       "count  177155.00000  177155.000000  ...   177155.000000  177155.000000   \n",
       "mean        0.10195       0.265671  ...     1734.882927    6050.150795   \n",
       "std         0.32590       0.902682  ...      997.146468   11473.707921   \n",
       "min         0.00000       0.000000  ...        1.000000       1.000000   \n",
       "25%         0.00000       0.000000  ...      941.000000     430.000000   \n",
       "50%         0.00000       0.000000  ...     1695.000000    1245.000000   \n",
       "75%         0.00000       0.000000  ...     2464.500000    5781.000000   \n",
       "max         5.00000      15.000000  ...     6730.000000  101302.000000   \n",
       "\n",
       "        MarketValue   Days_injured              W              D  \\\n",
       "count  1.771550e+05  177155.000000  177155.000000  177155.000000   \n",
       "mean   2.242022e+06      20.498665      12.870673       8.502419   \n",
       "std    6.317898e+06    1562.933062       5.635269       3.429401   \n",
       "min    0.000000e+00       0.000000       0.000000       0.000000   \n",
       "25%    2.000000e+05       0.000000       9.000000       6.000000   \n",
       "50%    5.000000e+05       0.000000      12.000000       8.000000   \n",
       "75%    1.500000e+06       0.000000      16.000000      11.000000   \n",
       "max    2.000000e+08  657380.000000      35.000000      24.000000   \n",
       "\n",
       "                   L         Points  Goales_scored  Goales_conceded  \n",
       "count  177155.000000  177155.000000  177155.000000    177155.000000  \n",
       "mean       11.416917      47.063498      45.079366        41.643820  \n",
       "std         5.357417      17.143184      16.252346        14.683128  \n",
       "min         0.000000     -32.000000       0.000000         0.000000  \n",
       "25%         7.000000      35.000000      34.000000        31.000000  \n",
       "50%        11.000000      46.000000      44.000000        41.000000  \n",
       "75%        15.000000      58.000000      55.000000        51.000000  \n",
       "max        37.000000     113.000000     121.000000       134.000000  \n",
       "\n",
       "[8 rows x 21 columns]"
      ]
     },
     "execution_count": 4,
     "metadata": {},
     "output_type": "execute_result"
    }
   ],
   "source": [
    "raw_df.describe()"
   ]
  },
  {
   "cell_type": "code",
   "execution_count": 8,
   "metadata": {},
   "outputs": [
    {
     "data": {
      "text/plain": [
       "Index(['player_id', 'season', 'games', 'ppg', 'goals', 'assists',\n",
       "       'yellow_cards', 'yellow_red_cards', 'red_cards', 'penalty_goals',\n",
       "       'minutes_per_goal', 'minutes_played', 'club_id', 'competition',\n",
       "       'marketvalue', 'days_injured', 'international', 'liga', 'liga_level',\n",
       "       'w', 'd', 'l', 'points', 'goales_scored', 'goales_conceded'],\n",
       "      dtype='object')"
      ]
     },
     "execution_count": 8,
     "metadata": {},
     "output_type": "execute_result"
    }
   ],
   "source": [
    "df = raw_df.copy()\n",
    "df.columns = df.columns.str.lower()\n",
    "df.columns # PPG: Points per game \n"
   ]
  },
  {
   "cell_type": "code",
   "execution_count": 34,
   "metadata": {},
   "outputs": [
    {
     "name": "stdout",
     "output_type": "stream",
     "text": [
      "Index(['player_id', 'name', 'current_club_id', 'current_club_name',\n",
      "       'country_of_citizenship', 'country_of_birth', 'city_of_birth',\n",
      "       'date_of_birth', 'position', 'sub_position', 'foot', 'height_in_cm',\n",
      "       'market_value_in_eur', 'highest_market_value_in_eur', 'agent_name',\n",
      "       'contract_expiration_date', 'current_club_domestic_competition_id',\n",
      "       'first_name', 'last_name', 'player_code', 'image_url', 'last_season',\n",
      "       'url'],\n",
      "      dtype='object')\n"
     ]
    }
   ],
   "source": [
    "players = pd.read_csv(\"../../data/players.csv\")  # Kaggle dataset\n",
    "print(players.columns)\n"
   ]
  },
  {
   "cell_type": "code",
   "execution_count": 52,
   "metadata": {},
   "outputs": [
    {
     "name": "stdout",
     "output_type": "stream",
     "text": [
      "<class 'pandas.core.frame.DataFrame'>\n",
      "Int64Index: 177153 entries, 0 to 177154\n",
      "Data columns (total 5 columns):\n",
      " #   Column         Non-Null Count   Dtype         \n",
      "---  ------         --------------   -----         \n",
      " 0   player_id      177153 non-null  int64         \n",
      " 1   season         177153 non-null  category      \n",
      " 2   marketvalue    177153 non-null  int64         \n",
      " 3   date_of_birth  177008 non-null  datetime64[ns]\n",
      " 4   age            177008 non-null  float64       \n",
      "dtypes: category(1), datetime64[ns](1), float64(1), int64(2)\n",
      "memory usage: 6.9 MB\n"
     ]
    }
   ],
   "source": [
    "df_age_val = pd.merge(df[[\"player_id\", \"season\", \"marketvalue\"]], players[[\"player_id\", \"date_of_birth\"]], on=\"player_id\", how=\"left\")\n",
    "#df_age_val = df_age_val.groupby(\"season\")\n",
    "df_age_val = df_age_val.query(\"season > 2003\")\n",
    "\n",
    "df_age_val[\"date_of_birth\"] = pd.to_datetime(df_age_val[\"date_of_birth\"])\n",
    "df_age_val[\"age\"] = df_age_val.season - df_age_val.date_of_birth.dt.year\n",
    "#df_age_val[\"age\"] = (pd.to_datetime(f\"{df_age_val['season']}-01-01\") - df_age_val[\"date_of_birth\"]).astype('<m8[Y]')\n",
    "\n",
    "# players['date_of_birth'] = pd.to_datetime(players['date_of_birth'])\n",
    "# players['age'] = (pd.to_datetime('2022-01-01') - players['date_of_birth']).astype('<m8[Y]')\n",
    "\n",
    "\n",
    "#df_age_val = df_age_val.drop(df_age_val[df.season == 2003].index)\n",
    "df_age_val[\"season\"] = df_age_val[\"season\"].astype(\"category\")\n",
    "\n",
    "df_age_val.info()"
   ]
  },
  {
   "cell_type": "code",
   "execution_count": 29,
   "metadata": {},
   "outputs": [
    {
     "data": {
      "text/plain": [
       "player_id        177153\n",
       "season           177153\n",
       "marketvalue      177153\n",
       "date_of_birth    177008\n",
       "dtype: int64"
      ]
     },
     "execution_count": 29,
     "metadata": {},
     "output_type": "execute_result"
    }
   ],
   "source": [
    "df_age_val.count()"
   ]
  },
  {
   "cell_type": "code",
   "execution_count": null,
   "metadata": {},
   "outputs": [],
   "source": [
    "df2 = df_age_val.copy()\n"
   ]
  },
  {
   "cell_type": "code",
   "execution_count": 50,
   "metadata": {},
   "outputs": [
    {
     "data": {
      "text/plain": [
       "<AxesSubplot:xlabel='marketvalue', ylabel='season'>"
      ]
     },
     "execution_count": 50,
     "metadata": {},
     "output_type": "execute_result"
    },
    {
     "data": {
      "image/png": "[encoded data removed]",
      "text/plain": [
       "<Figure size 640x480 with 1 Axes>"
      ]
     },
     "metadata": {},
     "output_type": "display_data"
    }
   ],
   "source": [
    "sns.boxplot(df_age_val, x=df_age_val[\"marketvalue\"].apply(np.log10), y=\"season\")"
   ]
  },
  {
   "cell_type": "code",
   "execution_count": 53,
   "metadata": {},
   "outputs": [
    {
     "data": {
      "text/plain": [
       "<AxesSubplot:xlabel='age', ylabel='season'>"
      ]
     },
     "execution_count": 53,
     "metadata": {},
     "output_type": "execute_result"
    },
    {
     "data": {
      "image/png": "[encoded data removed]",
      "text/plain": [
       "<Figure size 640x480 with 1 Axes>"
      ]
     },
     "metadata": {},
     "output_type": "display_data"
    }
   ],
   "source": [
    "sns.boxplot(df_age_val, x=\"age\", y=\"season\")"
   ]
  }
 ],
 "metadata": {
  "kernelspec": {
   "display_name": "Python 3",
   "language": "python",
   "name": "python3"
  },
  "language_info": {
   "codemirror_mode": {
    "name": "ipython",
    "version": 3
   },
   "file_extension": ".py",
   "mimetype": "text/x-python",
   "name": "python",
   "nbconvert_exporter": "python",
   "pygments_lexer": "ipython3",
   "version": "3.9.2"
  },
  "orig_nbformat": 4,
  "vscode": {
   "interpreter": {
    "hash": "916dbcbb3f70747c44a77c7bcd40155683ae19c65e1c03b4aa3499c5328201f1"
   }
  }
 },
 "nbformat": 4,
 "nbformat_minor": 2
}
