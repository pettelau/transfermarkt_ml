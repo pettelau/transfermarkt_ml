{
 "cells": [
  {
   "cell_type": "code",
<<<<<<< HEAD
   "execution_count": 134,
=======
   "execution_count": 125,
>>>>>>> 460b1d2705ff93ff3581d7055870a9da0339245b
   "metadata": {},
   "outputs": [],
   "source": [
    "import pandas as pd\n",
    "import numpy as np\n",
    "import matplotlib.pyplot as plt\n",
    "import seaborn as sns\n",
    "pd.set_option('display.max_columns', None)"
   ]
  },
  {
   "cell_type": "code",
<<<<<<< HEAD
   "execution_count": 135,
=======
   "execution_count": 126,
>>>>>>> 460b1d2705ff93ff3581d7055870a9da0339245b
   "metadata": {},
   "outputs": [],
   "source": [
    "players = pd.read_csv('./data/players_scraped.csv')\n",
    "clubs = pd.read_csv('./data/club_data_scraped_new.csv')\n",
    "injuries = pd.read_csv('./data/player_injuries_scraped.csv')\n",
    "international = pd.read_csv('./data/international_scraped.csv')"
   ]
  },
  {
   "cell_type": "code",
<<<<<<< HEAD
   "execution_count": 136,
=======
   "execution_count": 127,
>>>>>>> 460b1d2705ff93ff3581d7055870a9da0339245b
   "metadata": {},
   "outputs": [],
   "source": [
    "df = pd.merge(players, injuries, left_on=['Player_id', 'Season'], right_on=['player_id', 'Season'], how='left')"
   ]
  },
  {
   "cell_type": "code",
<<<<<<< HEAD
   "execution_count": 137,
=======
   "execution_count": 128,
>>>>>>> 460b1d2705ff93ff3581d7055870a9da0339245b
   "metadata": {},
   "outputs": [],
   "source": [
    "df = pd.merge(df, international, left_on='Player_id', right_on='player_id', how='left')"
   ]
  },
  {
   "cell_type": "code",
<<<<<<< HEAD
   "execution_count": 138,
=======
   "execution_count": 129,
>>>>>>> 460b1d2705ff93ff3581d7055870a9da0339245b
   "metadata": {},
   "outputs": [],
   "source": [
    "df = pd.merge(df, clubs, left_on=['Club_id', 'Season'], right_on=['club_id', 'Season'], how='inner')"
   ]
  },
  {
   "cell_type": "code",
<<<<<<< HEAD
   "execution_count": 139,
=======
   "execution_count": 130,
>>>>>>> 460b1d2705ff93ff3581d7055870a9da0339245b
   "metadata": {},
   "outputs": [],
   "source": [
    "cols_to_drop = ['player_id_x', 'player_id_y', 'club_id']\n",
    "cols_to_rename = {'Days': 'Days_injured'}\n",
    "df = df.rename(columns=cols_to_rename)\n",
    "df = df.drop(columns=cols_to_drop)"
   ]
  },
  {
   "cell_type": "code",
<<<<<<< HEAD
   "execution_count": 140,
=======
   "execution_count": 131,
>>>>>>> 460b1d2705ff93ff3581d7055870a9da0339245b
   "metadata": {},
   "outputs": [],
   "source": [
    "# fill in missing Days with 0\n",
    "df['Days_injured'] = df['Days_injured'].fillna(0)"
   ]
  },
  {
   "cell_type": "code",
<<<<<<< HEAD
   "execution_count": 141,
=======
   "execution_count": 132,
>>>>>>> 460b1d2705ff93ff3581d7055870a9da0339245b
   "metadata": {},
   "outputs": [
    {
     "data": {
      "text/html": [
       "<div>\n",
       "<style scoped>\n",
       "    .dataframe tbody tr th:only-of-type {\n",
       "        vertical-align: middle;\n",
       "    }\n",
       "\n",
       "    .dataframe tbody tr th {\n",
       "        vertical-align: top;\n",
       "    }\n",
       "\n",
       "    .dataframe thead th {\n",
       "        text-align: right;\n",
       "    }\n",
       "</style>\n",
       "<table border=\"1\" class=\"dataframe\">\n",
       "  <thead>\n",
       "    <tr style=\"text-align: right;\">\n",
       "      <th></th>\n",
       "      <th>Player_id</th>\n",
       "      <th>Season</th>\n",
       "      <th>Games</th>\n",
       "      <th>PPG</th>\n",
       "      <th>Goals</th>\n",
       "      <th>Assists</th>\n",
       "      <th>Yellow_cards</th>\n",
       "      <th>Yellow_red_cards</th>\n",
       "      <th>Red_cards</th>\n",
       "      <th>Penalty_goals</th>\n",
       "      <th>Minutes_per_goal</th>\n",
       "      <th>Minutes_played</th>\n",
       "      <th>Club_id</th>\n",
       "      <th>Competition</th>\n",
       "      <th>MarketValue</th>\n",
       "      <th>Days_injured</th>\n",
       "      <th>international</th>\n",
       "      <th>Liga</th>\n",
       "      <th>Liga_level</th>\n",
       "      <th>W</th>\n",
       "      <th>D</th>\n",
       "      <th>L</th>\n",
       "      <th>Points</th>\n",
       "      <th>Goales_scored</th>\n",
       "      <th>Goales_conceded</th>\n",
       "    </tr>\n",
       "  </thead>\n",
       "  <tbody>\n",
       "    <tr>\n",
       "      <th>0</th>\n",
       "      <td>10</td>\n",
       "      <td>2004</td>\n",
       "      <td>45</td>\n",
       "      <td>1.60</td>\n",
       "      <td>17</td>\n",
       "      <td>11</td>\n",
       "      <td>4</td>\n",
       "      <td>0</td>\n",
       "      <td>0</td>\n",
       "      <td>0</td>\n",
       "      <td>110.0</td>\n",
       "      <td>3244</td>\n",
       "      <td>86</td>\n",
       "      <td>Bundesliga</td>\n",
       "      <td>12000000</td>\n",
       "      <td>0.0</td>\n",
       "      <td>True</td>\n",
       "      <td>Bundesliga</td>\n",
       "      <td>First Tier</td>\n",
       "      <td>18</td>\n",
       "      <td>5</td>\n",
       "      <td>11</td>\n",
       "      <td>59</td>\n",
       "      <td>68</td>\n",
       "      <td>37</td>\n",
       "    </tr>\n",
       "    <tr>\n",
       "      <th>1</th>\n",
       "      <td>299</td>\n",
       "      <td>2004</td>\n",
       "      <td>47</td>\n",
       "      <td>1.77</td>\n",
       "      <td>2</td>\n",
       "      <td>5</td>\n",
       "      <td>8</td>\n",
       "      <td>0</td>\n",
       "      <td>0</td>\n",
       "      <td>0</td>\n",
       "      <td>363.0</td>\n",
       "      <td>4164</td>\n",
       "      <td>86</td>\n",
       "      <td>Bundesliga</td>\n",
       "      <td>9000000</td>\n",
       "      <td>0.0</td>\n",
       "      <td>True</td>\n",
       "      <td>Bundesliga</td>\n",
       "      <td>First Tier</td>\n",
       "      <td>18</td>\n",
       "      <td>5</td>\n",
       "      <td>11</td>\n",
       "      <td>59</td>\n",
       "      <td>68</td>\n",
       "      <td>37</td>\n",
       "    </tr>\n",
       "    <tr>\n",
       "      <th>2</th>\n",
       "      <td>690</td>\n",
       "      <td>2004</td>\n",
       "      <td>41</td>\n",
       "      <td>1.80</td>\n",
       "      <td>19</td>\n",
       "      <td>14</td>\n",
       "      <td>5</td>\n",
       "      <td>0</td>\n",
       "      <td>0</td>\n",
       "      <td>0</td>\n",
       "      <td>136.0</td>\n",
       "      <td>3001</td>\n",
       "      <td>86</td>\n",
       "      <td>Bundesliga</td>\n",
       "      <td>7500000</td>\n",
       "      <td>0.0</td>\n",
       "      <td>True</td>\n",
       "      <td>Bundesliga</td>\n",
       "      <td>First Tier</td>\n",
       "      <td>18</td>\n",
       "      <td>5</td>\n",
       "      <td>11</td>\n",
       "      <td>59</td>\n",
       "      <td>68</td>\n",
       "      <td>37</td>\n",
       "    </tr>\n",
       "    <tr>\n",
       "      <th>3</th>\n",
       "      <td>4316</td>\n",
       "      <td>2004</td>\n",
       "      <td>35</td>\n",
       "      <td>1.74</td>\n",
       "      <td>1</td>\n",
       "      <td>0</td>\n",
       "      <td>2</td>\n",
       "      <td>0</td>\n",
       "      <td>0</td>\n",
       "      <td>0</td>\n",
       "      <td>478.0</td>\n",
       "      <td>2985</td>\n",
       "      <td>86</td>\n",
       "      <td>Bundesliga</td>\n",
       "      <td>4500000</td>\n",
       "      <td>0.0</td>\n",
       "      <td>True</td>\n",
       "      <td>Bundesliga</td>\n",
       "      <td>First Tier</td>\n",
       "      <td>18</td>\n",
       "      <td>5</td>\n",
       "      <td>11</td>\n",
       "      <td>59</td>\n",
       "      <td>68</td>\n",
       "      <td>37</td>\n",
       "    </tr>\n",
       "    <tr>\n",
       "      <th>4</th>\n",
       "      <td>4403</td>\n",
       "      <td>2004</td>\n",
       "      <td>28</td>\n",
       "      <td>1.82</td>\n",
       "      <td>3</td>\n",
       "      <td>6</td>\n",
       "      <td>4</td>\n",
       "      <td>0</td>\n",
       "      <td>0</td>\n",
       "      <td>0</td>\n",
       "      <td>130.0</td>\n",
       "      <td>1898</td>\n",
       "      <td>86</td>\n",
       "      <td>Bundesliga</td>\n",
       "      <td>4000000</td>\n",
       "      <td>0.0</td>\n",
       "      <td>True</td>\n",
       "      <td>Bundesliga</td>\n",
       "      <td>First Tier</td>\n",
       "      <td>18</td>\n",
       "      <td>5</td>\n",
       "      <td>11</td>\n",
       "      <td>59</td>\n",
       "      <td>68</td>\n",
       "      <td>37</td>\n",
       "    </tr>\n",
       "  </tbody>\n",
       "</table>\n",
       "</div>"
      ],
      "text/plain": [
       "   Player_id  Season  Games   PPG  Goals  Assists  Yellow_cards  \\\n",
       "0         10    2004     45  1.60     17       11             4   \n",
       "1        299    2004     47  1.77      2        5             8   \n",
       "2        690    2004     41  1.80     19       14             5   \n",
       "3       4316    2004     35  1.74      1        0             2   \n",
       "4       4403    2004     28  1.82      3        6             4   \n",
       "\n",
       "   Yellow_red_cards  Red_cards  Penalty_goals  Minutes_per_goal  \\\n",
       "0                 0          0              0             110.0   \n",
       "1                 0          0              0             363.0   \n",
       "2                 0          0              0             136.0   \n",
       "3                 0          0              0             478.0   \n",
       "4                 0          0              0             130.0   \n",
       "\n",
       "   Minutes_played  Club_id Competition  MarketValue  Days_injured  \\\n",
       "0            3244       86  Bundesliga     12000000           0.0   \n",
       "1            4164       86  Bundesliga      9000000           0.0   \n",
       "2            3001       86  Bundesliga      7500000           0.0   \n",
       "3            2985       86  Bundesliga      4500000           0.0   \n",
       "4            1898       86  Bundesliga      4000000           0.0   \n",
       "\n",
       "   international        Liga  Liga_level   W  D   L  Points  Goales_scored  \\\n",
       "0           True  Bundesliga  First Tier  18  5  11      59             68   \n",
       "1           True  Bundesliga  First Tier  18  5  11      59             68   \n",
       "2           True  Bundesliga  First Tier  18  5  11      59             68   \n",
       "3           True  Bundesliga  First Tier  18  5  11      59             68   \n",
       "4           True  Bundesliga  First Tier  18  5  11      59             68   \n",
       "\n",
       "   Goales_conceded  \n",
       "0               37  \n",
       "1               37  \n",
       "2               37  \n",
       "3               37  \n",
       "4               37  "
      ]
     },
<<<<<<< HEAD
     "execution_count": 141,
=======
     "execution_count": 132,
>>>>>>> 460b1d2705ff93ff3581d7055870a9da0339245b
     "metadata": {},
     "output_type": "execute_result"
    }
   ],
   "source": [
    "df.head()"
   ]
  },
  {
   "cell_type": "code",
<<<<<<< HEAD
   "execution_count": 142,
=======
   "execution_count": 133,
>>>>>>> 460b1d2705ff93ff3581d7055870a9da0339245b
   "metadata": {},
   "outputs": [],
   "source": [
    "df.to_csv('./data/dataset.csv', index=False)"
   ]
  },
  {
   "cell_type": "code",
   "execution_count": null,
   "metadata": {},
   "outputs": [],
   "source": []
  }
 ],
 "metadata": {
  "kernelspec": {
   "display_name": "Python 3",
   "language": "python",
   "name": "python3"
  },
  "language_info": {
   "codemirror_mode": {
    "name": "ipython",
    "version": 3
   },
   "file_extension": ".py",
   "mimetype": "text/x-python",
   "name": "python",
   "nbconvert_exporter": "python",
   "pygments_lexer": "ipython3",
   "version": "3.9.7"
  },
  "orig_nbformat": 4
 },
 "nbformat": 4,
 "nbformat_minor": 2
}
