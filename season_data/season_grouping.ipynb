{
 "cells": [
  {
   "cell_type": "code",
   "execution_count": 2,
   "metadata": {},
   "outputs": [],
   "source": [
    "import pandas as pd"
   ]
  },
  {
   "cell_type": "code",
   "execution_count": 3,
   "metadata": {},
   "outputs": [],
   "source": [
    "\n",
    "# read the csv file into a pandas dataframe\n",
    "df = pd.read_csv('season_data_all.csv')\n",
    "\n",
    "# group the data by player and season, and sum the statistics\n",
    "grouped_df = df.groupby(['Player_id', 'Season']).agg({\n",
    "    'Games': 'sum',\n",
    "    'PPG': lambda x: x.mean().round(2),\n",
    "    'Goals': 'sum',\n",
    "    'Assists': 'sum',\n",
    "    'Yellow_cards': 'sum',\n",
    "    'Yellow_red_cards': 'sum',\n",
    "    'Red_cards': 'sum',\n",
    "    'Penalty_goals': 'sum',\n",
    "    'Minutes_per_goal': lambda x: x.mean().round(0),\n",
    "    'Minutes_played': 'sum',\n",
    "    'Club_id': 'first'\n",
    "}).reset_index()\n"
   ]
  },
  {
   "cell_type": "code",
   "execution_count": 29,
   "metadata": {},
   "outputs": [],
   "source": [
    "# for the 'competition' column, get the most played competition that is also a 'wettbewerb'\n",
    "def get_most_played_wettbewerb(group):\n",
    "    # wettbewerb_count = group.loc[group['League_type'] == 'wettbewerb'][['Competition','Games']]\n",
    "    wettbewerb_count = group.loc[group['League_type'] == 'wettbewerb'].groupby('Competition')['Games'].sum()\n",
    "    # print(wettbewerb_count)\n",
    "    if wettbewerb_count.empty:\n",
    "        return ''\n",
    "    else:\n",
    "        return wettbewerb_count.idxmax()\n",
    "\n",
    "competition_df = df.groupby(['Player_id', 'Season']).apply(lambda x: get_most_played_wettbewerb(x)).rename('Competition').reset_index()\n",
    "# competition_df\n",
    "\n",
    "\n",
    "# join the statistics dataframe with the competition dataframe\n",
    "result_df = grouped_df.merge(competition_df, left_on=['Player_id', 'Season'],right_on=['Player_id', 'Season'], how='inner')\n",
    "\n",
    "# result_df.drop(result_df['Minutes_played'] == 0)\n",
    "result_df = result_df[(result_df['Minutes_played'] != 0) & (result_df['Competition'] != '')]\n",
    "\n",
    "# save the result to a new csv file\n",
    "result_df.to_csv('cleaned_player_season_data_grouped.csv', index=False)"
   ]
  }
 ],
 "metadata": {
  "kernelspec": {
   "display_name": "Python 3",
   "language": "python",
   "name": "python3"
  },
  "language_info": {
   "codemirror_mode": {
    "name": "ipython",
    "version": 3
   },
   "file_extension": ".py",
   "mimetype": "text/x-python",
   "name": "python",
   "nbconvert_exporter": "python",
   "pygments_lexer": "ipython3",
   "version": "3.11.1"
  },
  "orig_nbformat": 4,
  "vscode": {
   "interpreter": {
    "hash": "0e9c34e00151e631725300733ed75a306a0e0509f725241d8915f671d8b9e030"
   }
  }
 },
 "nbformat": 4,
 "nbformat_minor": 2
}
